{
 "cells": [
  {
   "cell_type": "code",
   "execution_count": null,
   "metadata": {},
   "outputs": [
    {
     "ename": "",
     "evalue": "",
     "output_type": "error",
     "traceback": [
      "\u001b[1;31mRunning cells with '/usr/bin/python3' requires the ipykernel package.\n",
      "\u001b[1;31mRun the following command to install 'ipykernel' into the Python environment. \n",
      "\u001b[1;31mCommand: '/usr/bin/python3 -m pip install ipykernel -U --user --force-reinstall'"
     ]
    }
   ],
   "source": [
    "%pip install kmodes\n",
    "%pip install names\n",
    "\n",
    "import numpy as np\n",
    "import pandas as pd\n",
    "from sklearn.datasets import make_blobs\n",
    "import matplotlib.pyplot as plt\n",
    "from kmodes.kmodes import KModes\n",
    "import random\n",
    "import names\n",
    "import pandas as pd\n",
    "import plotly.express as px\n",
    "from sklearn.decomposition import PCA\n",
    "import uuid\n",
    "from sklearn.cluster import KMeans\n",
    "\n",
    "plt.style.use('ggplot')"
   ]
  },
  {
   "cell_type": "code",
   "execution_count": null,
   "metadata": {},
   "outputs": [],
   "source": [
    "\n",
    "\n",
    "def cluster(clusters=5, data=None):\n",
    "  kmeans = KMeans(n_clusters = clusters)\n",
    "  kmeans.fit(data)\n",
    "  labels = kmeans.labels_\n",
    "\n",
    "\n",
    "  pca = PCA(2)\n",
    "  pca.fit(data)\n",
    "\n",
    "  pca_data = pd.DataFrame(pca.transform(data))\n",
    "\n",
    "  newdict = {}\n",
    "  counter = 0\n",
    "  for i in data.index.values:\n",
    "    newdict[i] = {\n",
    "        \"color\": labels[counter],\n",
    "        \"position\": pca_data.iloc[counter].tolist(),\n",
    "    }\n",
    "    counter = counter + 1\n",
    "  fig =px.scatter(x=pca_data[0],y=pca_data[1],color=labels,text=data.index.values)\n",
    "  fig.show()\n",
    "\n",
    "  return newdict\n",
    "\n",
    "def excel_to_json(df):\n",
    "    kund = []\n",
    "    for i in range(len(df)):\n",
    "        temp = df.iloc[i]\n",
    "        customer = \"\"\n",
    "        if temp[\"B2B\"] == 1 and temp[\"B2C\"] == 1:\n",
    "            customer = \"B2B & B2C\"\n",
    "        elif temp[\"B2B\"] == 1:\n",
    "            customer = \"B2B\"\n",
    "        else:\n",
    "            customer = \"B2C\"\n",
    "\n",
    "        kund += [{\n",
    "            \"id\": str(uuid.uuid1()),\n",
    "            \"name\": temp[\"Kunde\"],\n",
    "            \"consultancy\": temp[\"Consultancy\"],\n",
    "            \"industry\": temp[\"Industry\"],\n",
    "            \"endcustomer\": customer\n",
    "        }]\n",
    "\n",
    "    return kund\n"
   ]
  },
  {
   "cell_type": "code",
   "execution_count": null,
   "metadata": {},
   "outputs": [],
   "source": [
    "df = pd.read_excel(r'data/consultancies.xlsx').replace(np.nan, 0)\n",
    "df.set_index(\"Consultancy\", inplace=True)"
   ]
  },
  {
   "cell_type": "code",
   "execution_count": null,
   "metadata": {},
   "outputs": [],
   "source": [
    "cluster(clusters=4,data=df)"
   ]
  },
  {
   "cell_type": "code",
   "execution_count": null,
   "metadata": {},
   "outputs": [],
   "source": [
    "kunden = pd.read_excel(r'data/kunden.xlsx', sheet_name=2).replace(np.nan, 0)\n",
    "excel_to_json(kunden)"
   ]
  }
 ],
 "metadata": {
  "kernelspec": {
   "display_name": "Python 3",
   "language": "python",
   "name": "python3"
  },
  "language_info": {
   "name": "python",
   "version": "3.10.6"
  },
  "orig_nbformat": 4
 },
 "nbformat": 4,
 "nbformat_minor": 2
}
